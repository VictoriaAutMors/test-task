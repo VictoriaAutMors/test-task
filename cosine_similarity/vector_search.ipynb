{
 "cells": [
  {
   "cell_type": "code",
   "execution_count": 11,
   "metadata": {},
   "outputs": [],
   "source": [
    "import numpy as np\n",
    "import pandas as pd\n",
    "import re\n",
    "from sklearn.metrics.pairwise import cosine_similarity\n",
    "from sklearn.feature_extraction.text import TfidfVectorizer\n",
    "from os.path import exists\n",
    "import spacy"
   ]
  },
  {
   "cell_type": "code",
   "execution_count": 12,
   "metadata": {},
   "outputs": [
    {
     "name": "stdout",
     "output_type": "stream",
     "text": [
      "English language has been choosed\n"
     ]
    }
   ],
   "source": [
    "language = input('in what language you want to test program', )\n",
    "if language == 'ru':\n",
    "    print('вы выбрали русский язык')\n",
    "    nlp = spacy.load(\"ru_core_news_md\")\n",
    "else: \n",
    "    print('English language has been choosed')\n",
    "    nlp = spacy.load(\"en_core_web_md\") "
   ]
  },
  {
   "cell_type": "code",
   "execution_count": 13,
   "metadata": {},
   "outputs": [],
   "source": [
    "\n",
    "#Предобработка текста\n",
    "def preprocess(text):\n",
    "    text = text.lower().strip() #приводим к нижнему регистру и избавляеся от лишних пробелов\n",
    "    text = re.sub(r'<.*?>', '', text)#убираем htlm таги\n",
    "    text = re.sub(r'[^\\w\\s]', ' ', text) #убираем пунктицию и символы как ',\", # итд\n",
    "    text = re.sub(r'\\s+', ' ', text)# убираем доп пробелы\n",
    "    return text\n",
    "\n",
    "#Приводит слово к изначальному типу\n",
    "def lemmatizer(string):\n",
    "    a = nlp(string)\n",
    "    a = [word.lemma_ for word in a]\n",
    "    return \" \".join(a)"
   ]
  },
  {
   "cell_type": "code",
   "execution_count": 14,
   "metadata": {},
   "outputs": [],
   "source": [
    "def get_cosine_similarity(matrix_1, matrix_2 = None):\n",
    "    #Случай если мы хотим сравнить с матрицу саму с собой\n",
    "    if matrix_2 == None:\n",
    "        matrix_2 = matrix_1\n",
    "    #переводим разреженную матрицу в заполненную матрицу\n",
    "    matrix_1 = matrix_1.todense()\n",
    "    matrix_2 = matrix_2.todense()\n",
    "    similarity = np.dot(matrix_1, matrix_2.T)\n",
    "    norm_matrix_1 = np.linalg.norm(matrix_1, axis=1)\n",
    "    norm_matrix_2 = np.linalg.norm(matrix_2, axis=1)\n",
    "    similarity = np.squeeze(np.asarray(similarity))\n",
    "    cosine = similarity / (norm_matrix_1 * norm_matrix_2)\n",
    "    return cosine"
   ]
  },
  {
   "cell_type": "code",
   "execution_count": 15,
   "metadata": {},
   "outputs": [],
   "source": [
    "#Считываем Датасет если нету, то используем тестовый.\n",
    "if exists('./data/test.csv'):\n",
    "    df = pd.read_csv('./data/test.csv')\n",
    "    df['new_text'] = df.apply(lambda x: lemmatizer(preprocess(x['Text'])), axis=1)\n",
    "else:\n",
    "    text_1 = \"This is a foo bar sentence .\"\n",
    "    text_2 = \"This sentence is similar to a foo bar sentence .\"\n",
    "    text_3  = \"What is this string ? Totally not related to the other two lines .\"\n",
    "    df = [text_1, text_2, text_3]"
   ]
  },
  {
   "cell_type": "code",
   "execution_count": 26,
   "metadata": {},
   "outputs": [
    {
     "name": "stdout",
     "output_type": "stream",
     "text": [
      "an omelette be a dish make from egg fry with butter or oil in a fry pan\n"
     ]
    }
   ],
   "source": [
    "vectorizer = TfidfVectorizer()\n",
    "transformed = vectorizer.fit_transform( df['new_text'])\n",
    "#Если мы ничего не передаем, то сравнение будет с самим собой\n",
    "test = input('enter sentence you want to compare', )\n",
    "if test != '':\n",
    "    test_processed = lemmatizer(preprocess(test))\n",
    "    test_vector = vectorizer.transform([test_processed])\n",
    "    print(test_processed)\n",
    "else:\n",
    "    test_vector = transformed"
   ]
  },
  {
   "cell_type": "code",
   "execution_count": 27,
   "metadata": {},
   "outputs": [
    {
     "name": "stdout",
     "output_type": "stream",
     "text": [
      "Cosine similarity created by me: [0.03348681 0.02229539 0.01943495 0.10653829 0.03171482 0.\n",
      " 0.         0.         0.         0.2389625  0.52260575 0.07680578\n",
      " 0.02677069 0.04112583 0.03073994 0.01419474]\n",
      "Cosine similarity from sklearn: [[0.03348681]\n",
      " [0.02229539]\n",
      " [0.01943495]\n",
      " [0.10653829]\n",
      " [0.03171482]\n",
      " [0.        ]\n",
      " [0.        ]\n",
      " [0.        ]\n",
      " [0.        ]\n",
      " [0.2389625 ]\n",
      " [0.52260575]\n",
      " [0.07680578]\n",
      " [0.02677069]\n",
      " [0.04112583]\n",
      " [0.03073994]\n",
      " [0.01419474]]\n"
     ]
    }
   ],
   "source": [
    "cosine = get_cosine_similarity(transformed, test_vector)\n",
    "print(\"Cosine similarity created by me:\", cosine)\n",
    "print(\"Cosine similarity from sklearn:\", cosine_similarity(transformed, test_vector))"
   ]
  },
  {
   "cell_type": "code",
   "execution_count": 28,
   "metadata": {},
   "outputs": [
    {
     "name": "stdout",
     "output_type": "stream",
     "text": [
      "similarity: 0.5226057530528185\n",
      "test string have the highest similarity with this sentence: \n",
      " A pancake (or hotcake, griddlecake, or flapjack) is a flat cake, often thin and round, prepared from a starch-based batter that may contain eggs, milk and butter and cooked on a hot surface such as a griddle or frying pan, often frying with oil or butter.\n"
     ]
    }
   ],
   "source": [
    "max_index = np.unravel_index(np.argmax(cosine), cosine.shape)\n",
    "print('similarity:', np.max(cosine))\n",
    "print('test string have the highest similarity with this sentence: \\n', df['Text'][max_index[0]])"
   ]
  }
 ],
 "metadata": {
  "kernelspec": {
   "display_name": "base",
   "language": "python",
   "name": "python3"
  },
  "language_info": {
   "codemirror_mode": {
    "name": "ipython",
    "version": 3
   },
   "file_extension": ".py",
   "mimetype": "text/x-python",
   "name": "python",
   "nbconvert_exporter": "python",
   "pygments_lexer": "ipython3",
   "version": "3.10.13"
  }
 },
 "nbformat": 4,
 "nbformat_minor": 2
}
