{
 "cells": [
  {
   "cell_type": "code",
   "execution_count": 1,
   "metadata": {},
   "outputs": [],
   "source": [
    "import spacy\n",
    "import pandas as pd\n",
    "import pickle\n",
    "import string\n",
    "import re\n",
    "from sklearn.feature_extraction.text import TfidfVectorizer\n",
    "from sklearn.linear_model import LogisticRegression\n",
    "from sklearn.naive_bayes import MultinomialNB\n",
    "from sklearn.model_selection import train_test_split\n",
    "from sklearn.metrics import classification_report\n",
    "from spacy.lang.en.stop_words import STOP_WORDS "
   ]
  },
  {
   "cell_type": "code",
   "execution_count": 2,
   "metadata": {},
   "outputs": [],
   "source": [
    "polarity = ['Злость', 'Нейтральность', 'Восторженность']"
   ]
  },
  {
   "cell_type": "code",
   "execution_count": 3,
   "metadata": {},
   "outputs": [],
   "source": [
    "nlp = spacy.load(\"en_core_web_md\")\n",
    "\n",
    "#Предобработка текста\n",
    "def preprocess(text):\n",
    "    text = text.lower().strip() #приводим к нижнему регистру и избавляеся от лишних пробелов\n",
    "    text = re.sub(r'<.*?>', '', text)#убираем htlm таги\n",
    "    text = re.sub(r'[^\\w\\s]', ' ', text) #убираем пунктицию и символы как ',\", # итд\n",
    "    text = re.sub(r'\\s+', ' ', text)# убираем доп пробелы\n",
    "    return text\n",
    "\n",
    "#Убирает Шумовые слова как: этом, пока, одном итд\n",
    "def stopword(string):\n",
    "    a = [word for word in string.split() if word not in STOP_WORDS]\n",
    "    return ' '.join(a)\n",
    "\n",
    "#Приводит слово к изначальному типу\n",
    "def lemmatizer(string):\n",
    "    a = nlp(string)\n",
    "    a = [word.lemma_ for word in a]\n",
    "    return \" \".join(a)"
   ]
  },
  {
   "cell_type": "code",
   "execution_count": 4,
   "metadata": {},
   "outputs": [
    {
     "name": "stdout",
     "output_type": "stream",
     "text": [
      "<class 'pandas.core.frame.DataFrame'>\n",
      "RangeIndex: 37149 entries, 0 to 37148\n",
      "Data columns (total 5 columns):\n",
      " #   Column      Non-Null Count  Dtype \n",
      "---  ------      --------------  ----- \n",
      " 0   Unnamed: 0  37149 non-null  int64 \n",
      " 1   index       37149 non-null  int64 \n",
      " 2   text        37149 non-null  object\n",
      " 3   sentiment   37149 non-null  int64 \n",
      " 4   new_text    36872 non-null  object\n",
      "dtypes: int64(3), object(2)\n",
      "memory usage: 1.4+ MB\n"
     ]
    }
   ],
   "source": [
    "df = pd.read_csv('./data/reddit_processed.csv')\n",
    "df.info()"
   ]
  },
  {
   "cell_type": "code",
   "execution_count": 5,
   "metadata": {},
   "outputs": [],
   "source": [
    "df_train = df.drop(columns=['index'])\n",
    "df_train[\"new_text\"], df_train[\"sentiment\"] = df_train[\"new_text\"].fillna(' '), df_train[\"sentiment\"]\n"
   ]
  },
  {
   "cell_type": "code",
   "execution_count": 6,
   "metadata": {},
   "outputs": [],
   "source": [
    "X_train, X_val, y_train, y_val = train_test_split(df_train[\"new_text\"],\n",
    "                                                  df_train[\"sentiment\"],\n",
    "                                                  test_size=0.20,\n",
    "                                                  shuffle=True)"
   ]
  },
  {
   "cell_type": "code",
   "execution_count": 7,
   "metadata": {},
   "outputs": [],
   "source": [
    "tfidf_vectorizer = TfidfVectorizer(use_idf=True)\n",
    "X_train_vectors_tfidf = tfidf_vectorizer.fit_transform(X_train) \n",
    "X_val_vectors_tfidf = tfidf_vectorizer.transform(X_val)"
   ]
  },
  {
   "cell_type": "code",
   "execution_count": 8,
   "metadata": {},
   "outputs": [
    {
     "name": "stdout",
     "output_type": "stream",
     "text": [
      "              precision    recall  f1-score   support\n",
      "\n",
      "          -1       0.77      0.64      0.70      1616\n",
      "           0       0.78      0.88      0.82      2610\n",
      "           1       0.82      0.80      0.81      3204\n",
      "\n",
      "    accuracy                           0.80      7430\n",
      "   macro avg       0.79      0.78      0.78      7430\n",
      "weighted avg       0.80      0.80      0.79      7430\n",
      "\n"
     ]
    }
   ],
   "source": [
    "#обучаем модель используя Логическую регрессию(tf-idf)  \n",
    "lr_tfidf=LogisticRegression(solver = 'liblinear', C=10, penalty = 'l2')\n",
    "lr_tfidf.fit(X_train_vectors_tfidf, y_train)\n",
    "\n",
    "y_predict = lr_tfidf.predict(X_val_vectors_tfidf)\n",
    "y_prob = lr_tfidf.predict_proba(X_val_vectors_tfidf)[:,1]\n",
    " \n",
    "\n",
    "print(classification_report(y_val,y_predict))"
   ]
  },
  {
   "cell_type": "code",
   "execution_count": 9,
   "metadata": {},
   "outputs": [
    {
     "name": "stdout",
     "output_type": "stream",
     "text": [
      "              precision    recall  f1-score   support\n",
      "\n",
      "          -1       0.94      0.09      0.17      1616\n",
      "           0       0.83      0.29      0.43      2610\n",
      "           1       0.49      0.97      0.65      3204\n",
      "\n",
      "    accuracy                           0.54      7430\n",
      "   macro avg       0.75      0.45      0.42      7430\n",
      "weighted avg       0.71      0.54      0.47      7430\n",
      "\n"
     ]
    }
   ],
   "source": [
    "#обучаем модель используя Наивной Баевской классификации(tf-idf)  \n",
    "nb_tfidf = MultinomialNB()\n",
    "nb_tfidf.fit(X_train_vectors_tfidf, y_train) \n",
    "\n",
    "y_predict = nb_tfidf.predict(X_val_vectors_tfidf)\n",
    "y_prob = nb_tfidf.predict_proba(X_val_vectors_tfidf)[:,1]\n",
    " \n",
    "print(classification_report(y_val,y_predict))"
   ]
  },
  {
   "cell_type": "code",
   "execution_count": 10,
   "metadata": {},
   "outputs": [],
   "source": [
    "#Сохраняем модели\n",
    "with open('./models/model_lr.pkl','wb') as f:\n",
    "    pickle.dump(lr_tfidf,f)\n",
    "with open('./models/model_nb.pkl','wb') as f:\n",
    "    pickle.dump(nb_tfidf,f)"
   ]
  },
  {
   "cell_type": "code",
   "execution_count": 11,
   "metadata": {},
   "outputs": [
    {
     "name": "stdout",
     "output_type": "stream",
     "text": [
      "Результат логической регрессии - Нейтральность\n",
      "Результат Наивной Баевской классификации - Восторженность\n"
     ]
    }
   ],
   "source": [
    "#Тестирум модель\n",
    "test = input('enter text', )\n",
    "test_processed = lemmatizer(stopword(preprocess(test)))\n",
    "X_test = [test_processed]\n",
    "X_vector = tfidf_vectorizer.transform(X_test)\n",
    "lr_predict = lr_tfidf.predict(X_vector)\n",
    "lr_prob =  lr_tfidf.predict_proba(X_vector)\n",
    "nb_predict = nb_tfidf.predict(X_vector)\n",
    "nb_prob =  nb_tfidf.predict_proba(X_vector)\n",
    "print('Результат логической регрессии -', polarity[lr_predict.item() + 1])\n",
    "print('Результат Наивной Баевской классификации -', polarity[nb_predict.item() + 1])"
   ]
  }
 ],
 "metadata": {
  "kernelspec": {
   "display_name": "base",
   "language": "python",
   "name": "python3"
  },
  "language_info": {
   "codemirror_mode": {
    "name": "ipython",
    "version": 3
   },
   "file_extension": ".py",
   "mimetype": "text/x-python",
   "name": "python",
   "nbconvert_exporter": "python",
   "pygments_lexer": "ipython3",
   "version": "3.10.13"
  }
 },
 "nbformat": 4,
 "nbformat_minor": 2
}
