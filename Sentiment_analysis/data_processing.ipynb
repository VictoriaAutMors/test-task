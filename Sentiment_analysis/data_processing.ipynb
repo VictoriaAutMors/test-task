{
 "cells": [
  {
   "cell_type": "code",
   "execution_count": 1,
   "metadata": {},
   "outputs": [],
   "source": [
    "import spacy\n",
    "import re\n",
    "import string\n",
    "import pandas as pd\n",
    "from spacy.lang.en.stop_words import STOP_WORDS"
   ]
  },
  {
   "cell_type": "code",
   "execution_count": 2,
   "metadata": {},
   "outputs": [],
   "source": [
    "nlp = spacy.load(\"en_core_web_md\")\n",
    "\n",
    "#Предобработка текста\n",
    "def preprocess(text):\n",
    "    text = text.lower().strip() #приводим к нижнему регистру и избавляеся от лишних пробелов\n",
    "    text = re.sub(r'<.*?>', '', text)#убираем htlm таги\n",
    "    text = re.sub(r'[^\\w\\s]', ' ', text) #убираем пунктицию и символы как ',\", # итд\n",
    "    text = re.sub(r'\\s+', ' ', text)# убираем доп пробелы\n",
    "    return text\n",
    "\n",
    "#Убирает Шумовые слова как: этом, пока, одном итд\n",
    "def stopword(string):\n",
    "    a = [word for word in string.split() if word not in STOP_WORDS]\n",
    "    return ' '.join(a)\n",
    "\n",
    "#Приводит слово к изначальному типу\n",
    "def lemmatizer(string):\n",
    "    a = nlp(string)\n",
    "    a = [word.lemma_ for word in a]\n",
    "    return \" \".join(a)"
   ]
  },
  {
   "cell_type": "code",
   "execution_count": 12,
   "metadata": {},
   "outputs": [
    {
     "name": "stdout",
     "output_type": "stream",
     "text": [
      "<class 'pandas.core.frame.DataFrame'>\n",
      "RangeIndex: 37249 entries, 0 to 37248\n",
      "Data columns (total 2 columns):\n",
      " #   Column         Non-Null Count  Dtype \n",
      "---  ------         --------------  ----- \n",
      " 0   clean_comment  37149 non-null  object\n",
      " 1   category       37249 non-null  int64 \n",
      "dtypes: int64(1), object(1)\n",
      "memory usage: 582.1+ KB\n"
     ]
    }
   ],
   "source": [
    "# открываем датасет\n",
    "df = pd.read_csv(\"./data/Reddit_Data.csv\")\n",
    "df.info()"
   ]
  },
  {
   "cell_type": "code",
   "execution_count": 14,
   "metadata": {},
   "outputs": [],
   "source": [
    "# удаляем лишние колонки\n",
    "processed_df = df.dropna().reset_index()\n",
    "processed_df.columns = ['index','text','sentiment']"
   ]
  },
  {
   "cell_type": "code",
   "execution_count": 15,
   "metadata": {},
   "outputs": [
    {
     "name": "stdout",
     "output_type": "stream",
     "text": [
      "sentiment\n",
      " 1    15830\n",
      " 0    13042\n",
      "-1     8277\n",
      "Name: count, dtype: int64\n"
     ]
    }
   ],
   "source": [
    "print(processed_df['sentiment'].value_counts())   "
   ]
  },
  {
   "cell_type": "code",
   "execution_count": 16,
   "metadata": {},
   "outputs": [],
   "source": [
    "#создаем новый столбец с обработанным текстом\n",
    "processed_df['new_text'] = processed_df.apply(lambda x: lemmatizer(stopword(preprocess(x['text']))), axis=1)"
   ]
  },
  {
   "cell_type": "code",
   "execution_count": 18,
   "metadata": {},
   "outputs": [],
   "source": [
    "#создаем новый датасет\n",
    "processed_df.to_csv('./data/reddit_processed.csv', encoding='utf-8')"
   ]
  }
 ],
 "metadata": {
  "kernelspec": {
   "display_name": "base",
   "language": "python",
   "name": "python3"
  },
  "language_info": {
   "codemirror_mode": {
    "name": "ipython",
    "version": 3
   },
   "file_extension": ".py",
   "mimetype": "text/x-python",
   "name": "python",
   "nbconvert_exporter": "python",
   "pygments_lexer": "ipython3",
   "version": "3.10.13"
  }
 },
 "nbformat": 4,
 "nbformat_minor": 2
}
