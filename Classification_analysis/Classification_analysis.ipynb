{
 "cells": [
  {
   "cell_type": "code",
   "execution_count": 4,
   "metadata": {},
   "outputs": [],
   "source": [
    "import spacy\n",
    "import pandas as pd\n",
    "import pickle\n",
    "import re\n",
    "from sklearn.feature_extraction.text import TfidfVectorizer\n",
    "from sklearn.linear_model import LogisticRegression\n",
    "from sklearn.model_selection import train_test_split\n",
    "from sklearn.metrics import classification_report\n",
    "from spacy.lang.ru.stop_words import STOP_WORDS "
   ]
  },
  {
   "cell_type": "code",
   "execution_count": 5,
   "metadata": {},
   "outputs": [],
   "source": [
    "nlp = spacy.load(\"ru_core_news_md\")\n",
    "\n",
    "#Предобработка текста\n",
    "def preprocess(text):\n",
    "    text = text.lower().strip() #приводим к нижнему регистру и избавляеся от лишних пробелов\n",
    "    text = re.sub(r'<.*?>', '', text)#убираем htlm таги\n",
    "    text = re.sub(r'[^\\w\\s]', ' ', text) #убираем пунктицию и символы как ',\", # итд\n",
    "    text = re.sub(r'\\s+', ' ', text)# убираем доп пробелы\n",
    "    return text\n",
    "\n",
    "#Убирает Шумовые слова как: этом, пока, одном итд\n",
    "def stopword(string):\n",
    "    a = [word for word in string.split() if word not in STOP_WORDS]\n",
    "    return ' '.join(a)\n",
    "\n",
    "#Приводит слово к изначальному типу\n",
    "def lemmatizer(string):\n",
    "    a = nlp(string)\n",
    "    a = [word.lemma_ for word in a]\n",
    "    return \" \".join(a)"
   ]
  },
  {
   "cell_type": "code",
   "execution_count": 16,
   "metadata": {},
   "outputs": [
    {
     "name": "stdout",
     "output_type": "stream",
     "text": [
      "<class 'pandas.core.frame.DataFrame'>\n",
      "RangeIndex: 306331 entries, 0 to 306330\n",
      "Data columns (total 6 columns):\n",
      " #   Column      Non-Null Count   Dtype \n",
      "---  ------      --------------   ----- \n",
      " 0   Unnamed: 0  306331 non-null  int64 \n",
      " 1   index       306331 non-null  int64 \n",
      " 2   text        306331 non-null  object\n",
      " 3   tags        306331 non-null  object\n",
      " 4   tag_code    306331 non-null  int64 \n",
      " 5   new_text    306331 non-null  object\n",
      "dtypes: int64(3), object(3)\n",
      "memory usage: 14.0+ MB\n"
     ]
    }
   ],
   "source": [
    "df = pd.read_csv('./data/lenta-ru-processed.csv')\n",
    "df.info()"
   ]
  },
  {
   "cell_type": "code",
   "execution_count": 30,
   "metadata": {},
   "outputs": [],
   "source": [
    "df_train = df.drop(columns=['index'])"
   ]
  },
  {
   "cell_type": "code",
   "execution_count": 8,
   "metadata": {},
   "outputs": [],
   "source": [
    "X_train, X_val, y_train, y_val = train_test_split(df_train[\"new_text\"],\n",
    "                                                  df_train[\"tag_code\"].values,\n",
    "                                                  test_size=0.20,\n",
    "                                                  shuffle=True)"
   ]
  },
  {
   "cell_type": "code",
   "execution_count": 9,
   "metadata": {},
   "outputs": [],
   "source": [
    "tfidf_vectorizer = TfidfVectorizer(use_idf=True)\n",
    "X_train_vectors_tfidf = tfidf_vectorizer.fit_transform(X_train) \n",
    "X_val_vectors_tfidf = tfidf_vectorizer.transform(X_val)"
   ]
  },
  {
   "cell_type": "code",
   "execution_count": 53,
   "metadata": {},
   "outputs": [
    {
     "name": "stdout",
     "output_type": "stream",
     "text": [
      "              precision    recall  f1-score   support\n",
      "\n",
      "           0       1.00      1.00      1.00      8085\n",
      "           1       0.99      0.99      0.99      5306\n",
      "\n",
      "    accuracy                           0.99     13391\n",
      "   macro avg       0.99      0.99      0.99     13391\n",
      "weighted avg       0.99      0.99      0.99     13391\n",
      "\n"
     ]
    }
   ],
   "source": [
    "#обучаем модель используя Логическую регрессию(tf-idf)  \n",
    "lr_tfidf=LogisticRegression(solver = 'liblinear', C=10, penalty = 'l2')\n",
    "lr_tfidf.fit(X_train_vectors_tfidf, y_train)\n",
    "\n",
    "y_predict = lr_tfidf.predict(X_val_vectors_tfidf)\n",
    "y_prob = lr_tfidf.predict_proba(X_val_vectors_tfidf)[:,1]\n",
    " \n",
    "print(classification_report(y_val,y_predict))"
   ]
  },
  {
   "cell_type": "code",
   "execution_count": 11,
   "metadata": {},
   "outputs": [],
   "source": [
    "#Сохраняем модель\n",
    "with open('./models/model_pl_sp.pkl','wb') as f:\n",
    "    pickle.dump(lr_tfidf,f)"
   ]
  },
  {
   "cell_type": "code",
   "execution_count": 12,
   "metadata": {},
   "outputs": [
    {
     "name": "stdout",
     "output_type": "stream",
     "text": [
      "[[0.00158733 0.03724978 0.0192563  0.11170433 0.12804773 0.00642478\n",
      "  0.03285391 0.00681216 0.01701266 0.08143012 0.0055336  0.03633922\n",
      "  0.0361661  0.02027863 0.0032269  0.0708937  0.00888181 0.03157345\n",
      "  0.01112665 0.00460091 0.12082311 0.03638318 0.00258667 0.00701539\n",
      "  0.01235337 0.00312557 0.01355248 0.02096655 0.0015987  0.01626132\n",
      "  0.00212446 0.0010546  0.00687281 0.00969734 0.0024643  0.00678842\n",
      "  0.00299095 0.00564704 0.00503647 0.00888442 0.00765735 0.00396522\n",
      "  0.00580133 0.00145387 0.01466924 0.00517697 0.00404881]] [5]\n",
      "Происшествия\n"
     ]
    }
   ],
   "source": [
    "#Тестируем Модель\n",
    "test = input('enter text', )\n",
    "test_processed = lemmatizer(stopword(preprocess(test)))\n",
    "X_test = [test_processed]\n",
    "X_vector = tfidf_vectorizer.transform(X_test)\n",
    "y_predict = lr_tfidf.predict(X_vector)\n",
    "y_prob =  lr_tfidf.predict_proba(X_vector)\n",
    "print(y_prob, y_predict)\n",
    "print(df_train['tags'][df_train['tag_code'] == y_predict.item()].iloc[0])"
   ]
  }
 ],
 "metadata": {
  "kernelspec": {
   "display_name": "base",
   "language": "python",
   "name": "python3"
  },
  "language_info": {
   "codemirror_mode": {
    "name": "ipython",
    "version": 3
   },
   "file_extension": ".py",
   "mimetype": "text/x-python",
   "name": "python",
   "nbconvert_exporter": "python",
   "pygments_lexer": "ipython3",
   "version": "3.10.13"
  }
 },
 "nbformat": 4,
 "nbformat_minor": 2
}
