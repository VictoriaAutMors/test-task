{
 "cells": [
  {
   "cell_type": "code",
   "execution_count": 23,
   "metadata": {},
   "outputs": [],
   "source": [
    "import spacy\n",
    "import seaborn as sns\n",
    "import matplotlib.pyplot as plt\n",
    "import re\n",
    "import string\n",
    "import pandas as pd\n",
    "from spacy.lang.ru.stop_words import STOP_WORDS"
   ]
  },
  {
   "cell_type": "code",
   "execution_count": 2,
   "metadata": {},
   "outputs": [],
   "source": [
    "nlp = spacy.load(\"ru_core_news_md\")\n",
    "\n",
    "#Предобработка текста\n",
    "def preprocess(text):\n",
    "    text = text.lower().strip() #приводим к нижнему регистру и избавляеся от лишних пробелов\n",
    "    text = re.sub(r'<.*?>', '', text)#убираем htlm таги\n",
    "    text = re.sub(r'[^\\w\\s]', ' ', text) #убираем пунктицию и символы как ',\", # итд\n",
    "    text = re.sub(r'\\s+', ' ', text)# убираем доп пробелы\n",
    "    return text\n",
    "\n",
    "#Убирает Шумовые слова как: этом, пока, одном итд\n",
    "def stopword(string):\n",
    "    a = [word for word in string.split() if word not in STOP_WORDS]\n",
    "    return ' '.join(a)\n",
    "\n",
    "#Приводит слово к изначальному типу\n",
    "def lemmatizer(string):\n",
    "    a = nlp(string)\n",
    "    a = [word.lemma_ for word in a]\n",
    "    return \" \".join(a)"
   ]
  },
  {
   "cell_type": "code",
   "execution_count": 3,
   "metadata": {},
   "outputs": [],
   "source": [
    "# открываем датасет\n",
    "df = pd.read_csv(\"./data/lenta-ru-news.csv\", low_memory=False)\n",
    "df.info()"
   ]
  },
  {
   "cell_type": "code",
   "execution_count": 24,
   "metadata": {},
   "outputs": [],
   "source": [
    "# удаляем лишние колонки\n",
    "processed_df = df.drop(['url', 'date', 'topic', 'title'], axis=1)  \n",
    "processed_df = processed_df.dropna().reset_index()"
   ]
  },
  {
   "cell_type": "code",
   "execution_count": 25,
   "metadata": {},
   "outputs": [
    {
     "name": "stdout",
     "output_type": "stream",
     "text": [
      "tags\n",
      "Все               453758\n",
      "Политика           40716\n",
      "Общество           35202\n",
      "Спорт              26236\n",
      "Украина            22523\n",
      "                   ...  \n",
      "Мировой опыт           6\n",
      "Нацпроекты             6\n",
      "Вооружение             3\n",
      "Инновации              1\n",
      "69-я параллель         1\n",
      "Name: count, Length: 88, dtype: int64\n"
     ]
    }
   ],
   "source": [
    "# объединяем тэги связанные со спортом в одну категорию\n",
    "processed_df['tags'] = processed_df['tags'].replace(['Футбол','Бокс и ММА', 'Хоккей', 'Английский футбол', \n",
    "                                                     'Летние виды', 'Зимние виды', 'Авто', 'Олимпиада', \n",
    "                                                     'ЗОЖ и фитнес'] , 'Спорт')\n",
    "\n",
    "print(processed_df['tags'].value_counts())   "
   ]
  },
  {
   "cell_type": "code",
   "execution_count": 14,
   "metadata": {},
   "outputs": [
    {
     "name": "stdout",
     "output_type": "stream",
     "text": [
      "tags\n",
      "Политика    40716\n",
      "Спорт       26236\n",
      "Name: count, dtype: int64\n"
     ]
    }
   ],
   "source": [
    "# Оставляем тэги политика и спорт\n",
    "processed_df = processed_df.drop(processed_df[(processed_df['tags'] != 'Спорт') & (processed_df['tags'] != 'Политика')].index)\n",
    "\n",
    "# отбиравем только те тэги, которые встречаются более 1000 раз. В датасете есть много тэгов общей категории. Удалим их тоже\n",
    "'''processed_df = processed_df.drop(processed_df[(processed_df['tags'] == 'Все')].index)\n",
    "tag_counts = processed_df['tags'].value_counts()\n",
    "frequent_tags = tag_counts[tag_counts > 1000].index.tolist()\n",
    "processed_df = processed_df[processed_df['tags'].isin(frequent_tags)]'''\n",
    "print(processed_df['tags'].value_counts())   "
   ]
  },
  {
   "cell_type": "code",
   "execution_count": 18,
   "metadata": {},
   "outputs": [],
   "source": [
    "#создаём словарь с тэгами\n",
    "categories = {}\n",
    "for key, value in enumerate(processed_df['tags'].unique()):\n",
    "    categories[value] = key\n",
    "\n",
    "processed_df['tag_code'] = processed_df['tags'].map(categories)\n"
   ]
  },
  {
   "cell_type": "code",
   "execution_count": 19,
   "metadata": {},
   "outputs": [
    {
     "name": "stdout",
     "output_type": "stream",
     "text": [
      "         index                                               text      tags  \\\n",
      "448774  448929  В Махачкале в четверг, 27 декабря, был задержа...  Политика   \n",
      "450202  450363  В Греции неизвестные из автомата Калашникова о...  Политика   \n",
      "450205  450366  Адвокат оппозиционера Леонида Развозжаева Дмит...  Политика   \n",
      "450209  450373  Немецкий рэпер Бушидо спровоцировал скандал, о...  Политика   \n",
      "450219  450386  Нападающий сборной России по хоккею Александр ...     Спорт   \n",
      "450226  450395  Министерство юстиции РФ отказалось зарегистрир...  Политика   \n",
      "450261  450434  Генеральный менеджер московского хоккейного ЦС...     Спорт   \n",
      "450263  450437  Центризбирком РФ предложил заменить названия п...  Политика   \n",
      "450264  450441  Бывший министр культуры Александр Авдеев назна...  Политика   \n",
      "450265  450442  Нападающий сборной России по хоккею Николай Же...     Спорт   \n",
      "\n",
      "        tag_code                                           new_text  \n",
      "448774         0  махачкала четверг декабрь задержать лидер даге...  \n",
      "450202         0  греция неизвестный автомата калашников обстрел...  \n",
      "450205         0  адвокат оппозиционер леонид развозжаева дмитри...  \n",
      "450209         0  немецкий рэпер бушидо спровоцировать скандал о...  \n",
      "450219         1  нападающий сборная россия хоккею александр рад...  \n",
      "450226         0  министерство юстиция рф отказаться зарегистрир...  \n",
      "450261         1  генеральный менеджер московский хоккейный цска...  \n",
      "450263         0  центризбирком рф предложить заменить название ...  \n",
      "450264         0  бывший министр культура александр авдеев назна...  \n",
      "450265         1  нападающий сборная россия хоккею николай жерде...  \n"
     ]
    }
   ],
   "source": [
    "print(processed_df.head(10))"
   ]
  },
  {
   "cell_type": "code",
   "execution_count": 20,
   "metadata": {},
   "outputs": [],
   "source": [
    "#создаем новый столбец с обработанным текстом\n",
    "processed_df['new_text'] = processed_df.apply(lambda x: lemmatizer(stopword(preprocess(x['text']))), axis=1)"
   ]
  },
  {
   "cell_type": "code",
   "execution_count": 21,
   "metadata": {},
   "outputs": [],
   "source": [
    "#создаем новый датасет\n",
    "processed_df.to_csv('./data/lenta-ru-pl-sp.csv', encoding='utf-8')"
   ]
  }
 ],
 "metadata": {
  "kernelspec": {
   "display_name": "base",
   "language": "python",
   "name": "python3"
  },
  "language_info": {
   "codemirror_mode": {
    "name": "ipython",
    "version": 3
   },
   "file_extension": ".py",
   "mimetype": "text/x-python",
   "name": "python",
   "nbconvert_exporter": "python",
   "pygments_lexer": "ipython3",
   "version": "3.10.13"
  }
 },
 "nbformat": 4,
 "nbformat_minor": 2
}
